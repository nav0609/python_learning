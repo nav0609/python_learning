{
 "cells": [
  {
   "cell_type": "markdown",
   "metadata": {},
   "source": [
    "### Functions in python\n",
    "- they work very much the same as in java\n",
    "\n",
    "- demonstraiting with fibonacci sequence with \"recursion\" in python : \n",
    "\n",
    "- \"fibonacci sequence is = 0 1 1 2 3 5 8 13 21\" == T(n) = T(n-1) + T(n-2)"
   ]
  },
  {
   "cell_type": "code",
   "execution_count": 26,
   "metadata": {},
   "outputs": [
    {
     "name": "stdout",
     "output_type": "stream",
     "text": [
      "[0, 1, 1, 2, 3, 5, 8, 13, 21, 34, 55, 89, 144, 233, 377, 610, 987, 1597, 2584, 4181, 6765]\n"
     ]
    }
   ],
   "source": [
    "n = int(input(\"Enter limit --> \"))\n",
    "def fibonacci(n):   # the keyword \" def \" is used to define a function in python\n",
    "    if n<=1:    # if the user inputs 1 by any chance\n",
    "        return n\n",
    "    return fibonacci(n-1) + fibonacci(n-2)    # implementing the formula \n",
    "fib = []\n",
    "for i in range(n+1):      # range goes to i < limit by default in python so setting that to <=   \n",
    "    fib.append(fibonacci(i))    # printing the list of the fibonacci numbers \n",
    "print(fib)"
   ]
  }
 ],
 "metadata": {
  "kernelspec": {
   "display_name": "Python 3",
   "language": "python",
   "name": "python3"
  },
  "language_info": {
   "codemirror_mode": {
    "name": "ipython",
    "version": 3
   },
   "file_extension": ".py",
   "mimetype": "text/x-python",
   "name": "python",
   "nbconvert_exporter": "python",
   "pygments_lexer": "ipython3",
   "version": "3.8.10"
  }
 },
 "nbformat": 4,
 "nbformat_minor": 2
}
