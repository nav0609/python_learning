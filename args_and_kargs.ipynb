{
 "cells": [
  {
   "cell_type": "markdown",
   "metadata": {},
   "source": [
    "### args and kwargs in python\n",
    " - python has a special type of function 'mapping' or 'assignment' method "
   ]
  },
  {
   "cell_type": "code",
   "execution_count": 25,
   "metadata": {},
   "outputs": [],
   "source": [
    "# for example if you wanted to pass multiple number of inputs to a function\n",
    "def ex1func(a,b):\n",
    "    return sum((a,b))*.5          # simple function to return half the sum of numbers "
   ]
  },
  {
   "cell_type": "code",
   "execution_count": 26,
   "metadata": {},
   "outputs": [
    {
     "data": {
      "text/plain": [
       "40.0"
      ]
     },
     "execution_count": 26,
     "metadata": {},
     "output_type": "execute_result"
    }
   ],
   "source": [
    "ex1func(20,60)"
   ]
  },
  {
   "cell_type": "markdown",
   "metadata": {},
   "source": [
    "- Now lets say you wanted to work with more than just two or three numbers;\n",
    "- So, you would have two ways to do the operation;"
   ]
  },
  {
   "cell_type": "code",
   "execution_count": 8,
   "metadata": {},
   "outputs": [],
   "source": [
    "# either you would do this:\n",
    "def ex2func(a=0,b=0,c=0,d=0,e=0):       # you would need to assign a default value to the arguments just in case they don't get used.\n",
    "    return sum((a,b,c,d,e))*.5 "
   ]
  },
  {
   "cell_type": "code",
   "execution_count": 23,
   "metadata": {},
   "outputs": [
    {
     "data": {
      "text/plain": [
       "109.5"
      ]
     },
     "execution_count": 23,
     "metadata": {},
     "output_type": "execute_result"
    }
   ],
   "source": [
    "ex2func(20,50,70,56,23)"
   ]
  },
  {
   "cell_type": "markdown",
   "metadata": {},
   "source": [
    "- Or you could use *args as a parameter"
   ]
  },
  {
   "cell_type": "code",
   "execution_count": 14,
   "metadata": {},
   "outputs": [],
   "source": [
    "# It automatically maps the function for you without the need for multiple variables with default values.\n",
    "def ex3func(*args):\n",
    "    return sum((args))*.5 "
   ]
  },
  {
   "cell_type": "code",
   "execution_count": 16,
   "metadata": {},
   "outputs": [
    {
     "data": {
      "text/plain": [
       "148.0"
      ]
     },
     "execution_count": 16,
     "metadata": {},
     "output_type": "execute_result"
    }
   ],
   "source": [
    "ex3func(10,30,40,60,100,56)         # with this you can pass your desired number of arguments to the fuction wtihout worrying about mapping"
   ]
  },
  {
   "cell_type": "code",
   "execution_count": 21,
   "metadata": {},
   "outputs": [
    {
     "name": "stdout",
     "output_type": "stream",
     "text": [
      "(20, 49, 'your mother', 60, 22)\n"
     ]
    }
   ],
   "source": [
    "# here is what its actually doing:\n",
    "def ex3func(*args):\n",
    "    print(args)\n",
    "\n",
    "ex3func(20,49,'your mother',60,22)     # it creates a tuple and passes it like a single argument"
   ]
  },
  {
   "cell_type": "markdown",
   "metadata": {},
   "source": [
    "- Try doing that in java\n",
    "\n",
    "- The syntax is like this:\n",
    "```\n",
    "function(*argument)        \n",
    "# the parameter name doesn't matter as long as it as a ' * ' in front of it, but the convention is to write it like  \n",
    "# this *args  \n",
    "```\n"
   ]
  },
  {
   "cell_type": "markdown",
   "metadata": {},
   "source": [
    "- One more gimmick is ' kwargs ' or keyword argument, which creates a dicitonary instead of a tuple "
   ]
  },
  {
   "cell_type": "code",
   "execution_count": null,
   "metadata": {},
   "outputs": [
    {
     "name": "stdout",
     "output_type": "stream",
     "text": [
      "(your mother)\n",
      "(doctor strange)\n",
      "(carbon 12)\n"
     ]
    }
   ],
   "source": [
    "def ex3func(**kwargs):\n",
    "    for i,j in kwargs.items():\n",
    "        print(f'({i} {j})')\n",
    "\n",
    "ex3func(your='mother',doctor= 'strange', carbon=12)"
   ]
  },
  {
   "cell_type": "markdown",
   "metadata": {},
   "source": [
    "- The only thing to look out for is positioning of arguments and parameters while working with *args and **kwargs "
   ]
  },
  {
   "cell_type": "code",
   "execution_count": 30,
   "metadata": {},
   "outputs": [
    {
     "name": "stdout",
     "output_type": "stream",
     "text": [
      "I like eggs and spam and my favorite fruit is cherries\n",
      "May I have some orange juice?\n"
     ]
    }
   ],
   "source": [
    "# for example you can pass both *args and **kwargs but you will have to remember the positioning of the original defined mapping of the function\n",
    "def ex3func(*args,**kwargs):\n",
    "    if 'fruit' and 'juice' in kwargs:\n",
    "        print(f\"I like {' and '.join(args)} and my favorite fruit is {kwargs['fruit']}\")\n",
    "        print(f\"May I have some {kwargs['juice']} juice?\")\n",
    "    else:\n",
    "        pass\n",
    "        \n",
    "ex3func('eggs','spam',fruit='cherries',juice='orange')"
   ]
  },
  {
   "cell_type": "code",
   "execution_count": null,
   "metadata": {},
   "outputs": [],
   "source": [
    "def ex3func(*args,**kwargs):\n",
    "    if 'fruit' and 'juice' in kwargs:\n",
    "        print(f\"I like {' and '.join(args)} and my favorite fruit is {kwargs['fruit']}\")\n",
    "        print(f\"May I have some {kwargs['juice']} juice?\")\n",
    "    else:\n",
    "        pass\n",
    "        \n",
    "ex3func('eggs','spam',fruit='cherries',juice='orange','shit')   \n",
    "# this throws a syntax error because there isn't a mappable parameter in the last that would have *args \n",
    "\n",
    "def ex3func(*args,**kwargs):\n",
    "    if 'fruit' and 'juice' in kwargs:\n",
    "        print(f\"I like {' and '.join(args)} and my favorite fruit is {kwargs['fruit']}\")\n",
    "        print(f\"May I have some {kwargs['juice']} juice?\")\n",
    "    else:\n",
    "        pass\n",
    "        \n",
    "ex3func(fruit='cherries',juice='orange','eggs','spam')  \n",
    "# same goes for here as well,"
   ]
  },
  {
   "cell_type": "markdown",
   "metadata": {},
   "source": [
    "- You need to remembere the postions of the original mapping of the function for *args and **kwargs to work.\n",
    "\n",
    "\n",
    "### In simple terms ,it works like a ((many to one) and onto) function in maths (which is a impossible function)"
   ]
  },
  {
   "cell_type": "code",
   "execution_count": 59,
   "metadata": {},
   "outputs": [
    {
     "data": {
      "text/plain": [
       "'aNtHrOpOmOrPhIsM'"
      ]
     },
     "execution_count": 59,
     "metadata": {},
     "output_type": "execute_result"
    }
   ],
   "source": [
    "def func(word):\n",
    "    new=\"\"\n",
    "    for i in range(len(word)):\n",
    "        if i%2!=0:\n",
    "            new+=word[i].upper()\n",
    "        else:\n",
    "            new+=word[i].lower()\n",
    "    return new\n",
    "    \n",
    "\n",
    "func('Anthropomorphism')"
   ]
  },
  {
   "cell_type": "code",
   "execution_count": 46,
   "metadata": {},
   "outputs": [
    {
     "data": {
      "text/plain": [
       "56"
      ]
     },
     "execution_count": 46,
     "metadata": {},
     "output_type": "execute_result"
    }
   ],
   "source": [
    "def func1(arr):\n",
    "    cond=True\n",
    "    sum=0\n",
    "    for i in arr:\n",
    "        while cond:\n",
    "            if i!=6:\n",
    "                sum+=i\n",
    "                break\n",
    "            else:\n",
    "                cond=False\n",
    "        while not cond:\n",
    "            if i!=9:\n",
    "                break\n",
    "            else:\n",
    "                cond=True\n",
    "                break\n",
    "    return sum\n",
    "\n",
    "func1([2,3,5,6,8,8,6,9,14,6,6,9,9,0,-4,9,9,9])"
   ]
  },
  {
   "cell_type": "code",
   "execution_count": 3,
   "metadata": {},
   "outputs": [
    {
     "data": {
      "text/plain": [
       "14"
      ]
     },
     "execution_count": 3,
     "metadata": {},
     "output_type": "execute_result"
    }
   ],
   "source": [
    "def func1(arr):\n",
    "    # Check if there's a pair of 6 and 9 in the array\n",
    "    has_6 = 6 in arr\n",
    "    has_9 = 9 in arr\n",
    "    \n",
    "    # If there's not both a 6 and a 9, simply sum the entire array\n",
    "    if not (has_6 and has_9):\n",
    "        return sum(arr)\n",
    "    \n",
    "    # Otherwise, sum all elements except those between 6 and 9 (inclusive)\n",
    "    sum_val = 0\n",
    "    skip = False\n",
    "    \n",
    "    for i in arr:\n",
    "        if not skip and i == 6:\n",
    "            skip = True\n",
    "            continue\n",
    "        elif skip and i == 9:\n",
    "            skip = False\n",
    "            continue\n",
    "        elif not skip:\n",
    "            sum_val += i\n",
    "            \n",
    "    return sum_val\n",
    "\n",
    "func1([2,3,6,8,9,9,6])"
   ]
  },
  {
   "cell_type": "code",
   "execution_count": 5,
   "metadata": {},
   "outputs": [
    {
     "data": {
      "text/plain": [
       "14"
      ]
     },
     "execution_count": 5,
     "metadata": {},
     "output_type": "execute_result"
    }
   ],
   "source": [
    "def func9(arr):\n",
    "    # Check if there's a complete pair of 6 and 9 in the correct order\n",
    "    has_complete_pair = False\n",
    "    for i in range(len(arr)):\n",
    "        if arr[i] == 6:\n",
    "            for j in range(i+1, len(arr)):\n",
    "                if arr[j] == 9:\n",
    "                    has_complete_pair = True\n",
    "                    break\n",
    "            if has_complete_pair:\n",
    "                break\n",
    "    \n",
    "    # If there's not a complete pair, simply sum the entire array\n",
    "    if not has_complete_pair:\n",
    "        return sum(arr)\n",
    "    \n",
    "    # Otherwise, sum all elements except those between 6 and 9 (inclusive)\n",
    "    sum_val = 0\n",
    "    skip = False\n",
    "    \n",
    "    for i in arr:\n",
    "        if not skip and i == 6:\n",
    "            skip = True\n",
    "            continue\n",
    "        elif skip and i == 9:\n",
    "            skip = False\n",
    "            continue\n",
    "        elif not skip:\n",
    "            sum_val += i\n",
    "            \n",
    "    return sum_val\n",
    "\n",
    "func9([2,3,6,8,9,9,6])"
   ]
  },
  {
   "cell_type": "code",
   "execution_count": 6,
   "metadata": {},
   "outputs": [
    {
     "data": {
      "text/plain": [
       "20"
      ]
     },
     "execution_count": 6,
     "metadata": {},
     "output_type": "execute_result"
    }
   ],
   "source": [
    "def func1(arr):\n",
    "    sum_val = 0\n",
    "    i = 0\n",
    "    \n",
    "    while i < len(arr):\n",
    "        # If we find a 6\n",
    "        if arr[i] == 6:\n",
    "            # Check if there's a 9 after this 6\n",
    "            has_nine_after = False\n",
    "            for j in range(i+1, len(arr)):\n",
    "                if arr[j] == 9:\n",
    "                    has_nine_after = True\n",
    "                    i = j + 1  # Skip to after the 9\n",
    "                    break\n",
    "            \n",
    "            # If no 9 found after this 6, add this 6 and all remaining elements\n",
    "            if not has_nine_after:\n",
    "                sum_val += sum(arr[i:])\n",
    "                break\n",
    "        else:\n",
    "            # Add the current element\n",
    "            sum_val += arr[i]\n",
    "            i += 1\n",
    "    \n",
    "    return sum_val\n",
    "\n",
    "func1([2,3,6,8,9,9,6])"
   ]
  },
  {
   "cell_type": "code",
   "execution_count": 49,
   "metadata": {},
   "outputs": [
    {
     "data": {
      "text/plain": [
       "(14, [2, 3, 9], [6, 9, 9, 6])"
      ]
     },
     "execution_count": 49,
     "metadata": {},
     "output_type": "execute_result"
    }
   ],
   "source": [
    "def func3(arr):\n",
    "    flag=False\n",
    "    s=[]\n",
    "    temp=[]\n",
    "    pairs=0\n",
    "    \n",
    "    for i in arr:\n",
    "        if i==6:\n",
    "            pairs+=1\n",
    "            flag=True\n",
    "            temp.append(i)\n",
    "        elif i==9:\n",
    "            pairs-=1\n",
    "            flag=False\n",
    "            temp.append(i)\n",
    "            if pairs>=0:\n",
    "                continue\n",
    "        if not flag:\n",
    "            s.append(i)\n",
    "    \n",
    "    return sum(s),s,temp\n",
    "\n",
    "func3([2,3,6,8,9,9,6])\n",
    "#func3([2,3,5,6,8,8,6,9,14,6,6,9,9,0,-4,9,9,9])\n",
    "\n",
    "\n",
    "#[2,3,5,14,9,0,-4,9,9,9]"
   ]
  },
  {
   "cell_type": "code",
   "execution_count": 45,
   "metadata": {},
   "outputs": [
    {
     "data": {
      "text/plain": [
       "56"
      ]
     },
     "execution_count": 45,
     "metadata": {},
     "output_type": "execute_result"
    }
   ],
   "source": [
    "sum([2,3,5,14,9,0,-4,9,9,9])"
   ]
  },
  {
   "cell_type": "code",
   "execution_count": 6,
   "metadata": {},
   "outputs": [],
   "source": [
    "def func2(limit):\n",
    "    cond=0\n",
    "    temp=[]\n",
    "    for i in range(1,limit):\n",
    "        for j in range(1,limit):\n",
    "            if i%j==0:\n",
    "                cond+=1\n",
    "        if cond==2:\n",
    "            temp.append(i)\n",
    "        cond=0\n",
    "    print(temp)\n",
    "    return len(temp)"
   ]
  },
  {
   "cell_type": "code",
   "execution_count": 7,
   "metadata": {},
   "outputs": [
    {
     "name": "stdout",
     "output_type": "stream",
     "text": [
      "[2, 3, 5, 7, 11, 13, 17, 19, 23, 29, 31, 37, 41, 43, 47, 53, 59, 61, 67, 71, 73, 79, 83, 89, 97]\n"
     ]
    },
    {
     "data": {
      "text/plain": [
       "25"
      ]
     },
     "execution_count": 7,
     "metadata": {},
     "output_type": "execute_result"
    }
   ],
   "source": [
    "func2(100)"
   ]
  },
  {
   "cell_type": "code",
   "execution_count": null,
   "metadata": {},
   "outputs": [
    {
     "data": {
      "text/plain": [
       "False"
      ]
     },
     "execution_count": 35,
     "metadata": {},
     "output_type": "execute_result"
    }
   ],
   "source": [
    "#program for searching by comparing elements in a list \n",
    "\n",
    "def spy(list):\n",
    "    comparision_list=[0,0,7,'p']        # creating a list to have have the elements to be compared\n",
    "                           # | this element is a placeholder; if this reaches the index 0 in final run of the loop below, we have found the elements the given list.\n",
    "    for i in list:\n",
    "        if i==comparision_list[0]:\n",
    "            comparision_list.pop(0)\n",
    "    return len(comparision_list)==1\n",
    "\n",
    "spy([1,2,3,0,8,0,5,7])"
   ]
  }
 ],
 "metadata": {
  "kernelspec": {
   "display_name": "Python 3",
   "language": "python",
   "name": "python3"
  },
  "language_info": {
   "codemirror_mode": {
    "name": "ipython",
    "version": 3
   },
   "file_extension": ".py",
   "mimetype": "text/x-python",
   "name": "python",
   "nbconvert_exporter": "python",
   "pygments_lexer": "ipython3",
   "version": "3.12.5"
  }
 },
 "nbformat": 4,
 "nbformat_minor": 2
}
