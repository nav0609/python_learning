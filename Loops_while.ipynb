{
 "cells": [
  {
   "cell_type": "markdown",
   "metadata": {},
   "source": [
    "#While loops in python work kind of the same way the they work in java\n",
    "- The syntax in java is \n",
    "```\n",
    "while (condition){\n",
    "    statement;\n",
    "}\n",
    "```"
   ]
  },
  {
   "cell_type": "code",
   "execution_count": 1,
   "metadata": {},
   "outputs": [
    {
     "name": "stdout",
     "output_type": "stream",
     "text": [
      "0\n",
      "1\n",
      "2\n",
      "3\n",
      "4\n"
     ]
    }
   ],
   "source": [
    "#the syntax is python is\n",
    "counter = 0\n",
    "while counter<5:\n",
    "    print(counter)  #again, python uses white space instead of '{}'\n",
    "    counter += 1"
   ]
  },
  {
   "cell_type": "markdown",
   "metadata": {},
   "source": [
    "- The full syntax for a while loop is:\n",
    "```\n",
    "while condition:\n",
    "    statement\n",
    "else:\n",
    "    statement\n",
    "```"
   ]
  },
  {
   "cell_type": "code",
   "execution_count": 3,
   "metadata": {},
   "outputs": [
    {
     "name": "stdout",
     "output_type": "stream",
     "text": [
      "0\n",
      "1\n",
      "2\n",
      "3\n",
      "4\n",
      "DONE\n"
     ]
    }
   ],
   "source": [
    "#you can attach an else statement to a while loop in python\n",
    "x=0\n",
    "while x<5:\n",
    "    print(x)\n",
    "    x+=1\n",
    "else:\n",
    "    print(\"DONE\")"
   ]
  },
  {
   "cell_type": "markdown",
   "metadata": {},
   "source": [
    "#Break, continue and pass statements in python\n",
    "- these work the same way as they do in java"
   ]
  },
  {
   "cell_type": "code",
   "execution_count": 10,
   "metadata": {},
   "outputs": [
    {
     "name": "stdout",
     "output_type": "stream",
     "text": [
      "1\n",
      "2\n",
      "3\n",
      "loop broken\n"
     ]
    }
   ],
   "source": [
    "#break in python\n",
    "samp_list = [1,2,3,4,5,6]\n",
    "for i in samp_list:\n",
    "    if i==5:\n",
    "        break   #'break' stops the loop at the specified condition and takes the compiler out of the loop\n",
    "    print(i)\n",
    "print(\"loop broken\")"
   ]
  },
  {
   "cell_type": "code",
   "execution_count": 12,
   "metadata": {},
   "outputs": [
    {
     "name": "stdout",
     "output_type": "stream",
     "text": [
      "1\n",
      "2\n",
      "3\n",
      "4\n",
      "loop continued\n",
      "6\n"
     ]
    }
   ],
   "source": [
    "#countinue in python\n",
    "for i in samp_list:\n",
    "    if i==5:\n",
    "        print(\"loop continued\")    #'continue' stops the loop and takes the compiler back to the closet loop and continues excution\n",
    "        continue\n",
    "    print(i)"
   ]
  },
  {
   "cell_type": "markdown",
   "metadata": {},
   "source": [
    "- 'pass' is used kind of as a null case in python\n",
    "- it is used in function testing and in temprory loops\n",
    "- its used while testing the code in its initial form "
   ]
  },
  {
   "cell_type": "code",
   "execution_count": 14,
   "metadata": {},
   "outputs": [],
   "source": [
    "#pass in python\n",
    "for i in samp_list:\n",
    "    pass            #'pass' allows the compiler to excecute past an undefined loop or an undifined function"
   ]
  }
 ],
 "metadata": {
  "kernelspec": {
   "display_name": "Python 3",
   "language": "python",
   "name": "python3"
  },
  "language_info": {
   "codemirror_mode": {
    "name": "ipython",
    "version": 3
   },
   "file_extension": ".py",
   "mimetype": "text/x-python",
   "name": "python",
   "nbconvert_exporter": "python",
   "pygments_lexer": "ipython3",
   "version": "3.8.10"
  }
 },
 "nbformat": 4,
 "nbformat_minor": 2
}
