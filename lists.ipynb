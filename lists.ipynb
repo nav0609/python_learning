{
 "cells": [
  {
   "cell_type": "markdown",
   "metadata": {},
   "source": [
    "\n",
    "#list work a lot similar to strings, they are a sequence of things.\n",
    "\n",
    "(sort of like arrays in java, but list can contain multiple types of elements)\n",
    "\n",
    "The bellow are some operations on lists:"
   ]
  },
  {
   "cell_type": "code",
   "execution_count": 3,
   "metadata": {},
   "outputs": [
    {
     "data": {
      "text/plain": [
       "[1, 2, 3]"
      ]
     },
     "execution_count": 3,
     "metadata": {},
     "output_type": "execute_result"
    }
   ],
   "source": [
    "#syntax for creating a list \n",
    "sam_list = [1,2,3]\n",
    "sam_list"
   ]
  },
  {
   "cell_type": "code",
   "execution_count": 4,
   "metadata": {},
   "outputs": [
    {
     "data": {
      "text/plain": [
       "1"
      ]
     },
     "execution_count": 4,
     "metadata": {},
     "output_type": "execute_result"
    }
   ],
   "source": [
    "#indexing a list (works basically same as stings)\n",
    "sam_list=[1,3,5,7]\n",
    "sam_list[0] #returns element at index 0 "
   ]
  },
  {
   "cell_type": "code",
   "execution_count": 7,
   "metadata": {},
   "outputs": [
    {
     "data": {
      "text/plain": [
       "[1, 5]"
      ]
     },
     "execution_count": 7,
     "metadata": {},
     "output_type": "execute_result"
    }
   ],
   "source": [
    "#slicing a list \n",
    "sam_list[0:3:2] #start at 0 end at 3, but not inclucde it, with a gap of 2 "
   ]
  },
  {
   "cell_type": "code",
   "execution_count": 14,
   "metadata": {},
   "outputs": [
    {
     "data": {
      "text/plain": [
       "[1, 3, 5, 7, 'one', 'three', 'five', 'seven', 1.1, 3.3, 5.5, 7.7]"
      ]
     },
     "execution_count": 14,
     "metadata": {},
     "output_type": "execute_result"
    }
   ],
   "source": [
    "#concatinate two or more lists\n",
    "sam2_list = ['one','three','five','seven']\n",
    "sam3_list = [1.1,3.3,5.5,7.7]\n",
    "con_list = sam_list + sam2_list +sam3_list\n",
    "con_list"
   ]
  },
  {
   "cell_type": "markdown",
   "metadata": {
    "vscode": {
     "languageId": "raw"
    }
   },
   "source": [
    "#Some special methods on list:\n",
    "\n",
    "- append method(to add elements)\n",
    "- pop method(to remove elements)\n",
    "- reverse method(to reverse a list)\n",
    "- sort(to sort a list)"
   ]
  },
  {
   "cell_type": "code",
   "execution_count": 28,
   "metadata": {},
   "outputs": [
    {
     "data": {
      "text/plain": [
       "[1, 'three', 5.0, '7.0f']"
      ]
     },
     "execution_count": 28,
     "metadata": {},
     "output_type": "execute_result"
    }
   ],
   "source": [
    "#adding elements to list\n",
    "fun_list=[1,'three',5.0]\n",
    "fun_list.append('7.0f') #adds elements at the end\n",
    "fun_list"
   ]
  },
  {
   "cell_type": "code",
   "execution_count": 20,
   "metadata": {},
   "outputs": [
    {
     "data": {
      "text/plain": [
       "[1, 'three', '7.0f']"
      ]
     },
     "execution_count": 20,
     "metadata": {},
     "output_type": "execute_result"
    }
   ],
   "source": [
    "#removing elements from a list\n",
    "fun_list.pop(2) #remove element from the given index in ()\n",
    "fun_list"
   ]
  },
  {
   "cell_type": "code",
   "execution_count": 26,
   "metadata": {},
   "outputs": [
    {
     "data": {
      "text/plain": [
       "['7.0f', 5.0, 'three', 1]"
      ]
     },
     "execution_count": 26,
     "metadata": {},
     "output_type": "execute_result"
    }
   ],
   "source": [
    "#reversing a list\n",
    "fun_list.reverse() #reverses the elements in the list\n",
    "fun_list"
   ]
  },
  {
   "cell_type": "code",
   "execution_count": 41,
   "metadata": {},
   "outputs": [
    {
     "name": "stdout",
     "output_type": "stream",
     "text": [
      "['a', 'b', 'c', 'd', 'e', 'f']\n",
      "[1, 3, 5, 7, 9]\n"
     ]
    }
   ],
   "source": [
    "#sorting a list\n",
    "sort_list1=['a','c','d','f','e','b']\n",
    "sort_list2=[1,5,3,9,7]\n",
    "sort_list1.sort()#sorts the elements in their respective types\n",
    "sort_list2.sort()\n",
    "print(sort_list1)\n",
    "print(sort_list2)\n",
    "#the following code won't work as lists should be of one specific datatype to be sorted\n",
    "\n",
    "#sort_list3=['a','c',1,5,'f','e',3,9,7,'d','b']\n",
    "#sort_list3.sort()\n",
    "#print(sort_list3)"
   ]
  },
  {
   "cell_type": "markdown",
   "metadata": {},
   "source": [
    "#Nested lists and data structures in python\n",
    "\n",
    "- python can have a data strc inside another data strc\n",
    "- for example three lists inside another list (which forms a 2X2 matix)\n",
    "- the sysntax is as follows :"
   ]
  },
  {
   "cell_type": "code",
   "execution_count": 44,
   "metadata": {},
   "outputs": [
    {
     "data": {
      "text/plain": [
       "[[1, 3, 7], [9, 11, 13], [15, 17, 19]]"
      ]
     },
     "execution_count": 44,
     "metadata": {},
     "output_type": "execute_result"
    }
   ],
   "source": [
    "#syntax of a nested list \n",
    "list1=[1,3,7]\n",
    "list2=[9,11,13]\n",
    "list3=[15,17,19]\n",
    "matix=[list1,list2,list3]\n",
    "matix"
   ]
  },
  {
   "cell_type": "code",
   "execution_count": 46,
   "metadata": {},
   "outputs": [
    {
     "data": {
      "text/plain": [
       "13"
      ]
     },
     "execution_count": 46,
     "metadata": {},
     "output_type": "execute_result"
    }
   ],
   "source": [
    "#retreving a element from a matix of lists\n",
    "matix[1][2]\n",
    "#     |  |\n",
    "#list(i) element(i)"
   ]
  }
 ],
 "metadata": {
  "kernelspec": {
   "display_name": "Python 3",
   "language": "python",
   "name": "python3"
  },
  "language_info": {
   "codemirror_mode": {
    "name": "ipython",
    "version": 3
   },
   "file_extension": ".py",
   "mimetype": "text/x-python",
   "name": "python",
   "nbconvert_exporter": "python",
   "pygments_lexer": "ipython3",
   "version": "3.8.10"
  }
 },
 "nbformat": 4,
 "nbformat_minor": 2
}
