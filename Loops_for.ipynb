{
 "cells": [
  {
   "cell_type": "markdown",
   "metadata": {},
   "source": [
    "#For loops work a bit different in python than in java\n",
    "- for java the syntax of a for loop would look like something like  \n",
    "```\n",
    "for(int i=0;i<n,i++){\n",
    "    System.out.println(i);\n",
    "}\n",
    "```"
   ]
  },
  {
   "cell_type": "code",
   "execution_count": 2,
   "metadata": {},
   "outputs": [
    {
     "name": "stdout",
     "output_type": "stream",
     "text": [
      "1\n",
      "2\n",
      "3\n"
     ]
    }
   ],
   "source": [
    "#the syntax in python looks something like this:\n",
    "for i in [1,2,3]:\n",
    "    print(i)"
   ]
  },
  {
   "cell_type": "markdown",
   "metadata": {},
   "source": [
    "- its a for each loop, meaning you can't start at a romdom index like in java (for example starting the loop at i=0 or i=2)\n",
    "- the syntax is \n",
    "```\n",
    "for (control variable) in (data type)\n",
    "    (loop body)\n",
    "```\n",
    "- control variable name can be anything but a keyword \n",
    "- also uses white spaces\n",
    "- its kinda retarded syntaxing"
   ]
  },
  {
   "cell_type": "code",
   "execution_count": 8,
   "metadata": {},
   "outputs": [
    {
     "name": "stdout",
     "output_type": "stream",
     "text": [
      "1 (odd number)\n",
      "2\n",
      "3 (odd number)\n",
      "4\n",
      "5 (odd number)\n",
      "6\n",
      "7 (odd number)\n",
      "8\n",
      "9 (odd number)\n"
     ]
    }
   ],
   "source": [
    "#printing only even or odd numbers from a list\n",
    "num_list=[1,2,3,4,5,6,7,8,9]\n",
    "for i in num_list:\n",
    "    if i % 2 ==0:\n",
    "        print(i)\n",
    "    else:\n",
    "        print(f'{i} (odd number)')"
   ]
  },
  {
   "cell_type": "code",
   "execution_count": 10,
   "metadata": {},
   "outputs": [
    {
     "name": "stdout",
     "output_type": "stream",
     "text": [
      "1\n",
      "3\n",
      "6\n",
      "10\n",
      "15\n",
      "21\n",
      "28\n",
      "36\n",
      "45\n",
      "total sum = 45\n"
     ]
    }
   ],
   "source": [
    "#using for loop to sum a list\n",
    "sum=0\n",
    "for i in num_list:\n",
    "    sum+=i      # Sn = S(n-1) + n\n",
    "    print(sum)\n",
    "    \n",
    "print(f'total sum = {sum}')"
   ]
  },
  {
   "cell_type": "markdown",
   "metadata": {},
   "source": [
    "- Working with tuples and dictionaries in for loops "
   ]
  },
  {
   "cell_type": "code",
   "execution_count": 30,
   "metadata": {},
   "outputs": [
    {
     "name": "stdout",
     "output_type": "stream",
     "text": [
      "(1, 2, 3)\n",
      "(4, 5, 6)\n",
      "(7, 8, 9)\n",
      "(10, 11, 12)\n"
     ]
    }
   ],
   "source": [
    "#printing a list of tuples \n",
    "tup_list = [(1,2,3),(4,5,6),(7,8,9),(10,11,12)]\n",
    "for i in tup_list:\n",
    "    print(i)    #notice how the control variable picks up the whole tuple(data type)"
   ]
  },
  {
   "cell_type": "code",
   "execution_count": 31,
   "metadata": {},
   "outputs": [
    {
     "name": "stdout",
     "output_type": "stream",
     "text": [
      "1 2 3\n",
      "4 5 6\n",
      "7 8 9\n",
      "10 11 12\n"
     ]
    }
   ],
   "source": [
    "#now printing the elements of those tuples \n",
    "for i,j,k in tup_list:       #you can pick up multiple items from the individual tuples in the list \n",
    "    print(i,j,k)"
   ]
  },
  {
   "cell_type": "code",
   "execution_count": 25,
   "metadata": {},
   "outputs": [
    {
     "name": "stdout",
     "output_type": "stream",
     "text": [
      "k1\n",
      "k2\n",
      "k3\n",
      "k4\n"
     ]
    }
   ],
   "source": [
    "#working wtih dictionaries\n",
    "dic = {'k1':1,'k2':2,'k3':3,'k4':4} \n",
    "for i in dic:       # control variable only picks up the keys\n",
    "    print(i)"
   ]
  },
  {
   "cell_type": "code",
   "execution_count": 28,
   "metadata": {},
   "outputs": [
    {
     "name": "stdout",
     "output_type": "stream",
     "text": [
      "k1 1\n",
      "k2 2\n",
      "k3 3\n",
      "k4 4\n"
     ]
    }
   ],
   "source": [
    "#to print the keys and the items we use two variables as each element in a dictionary is stored as a key-item pair (tuple)\n",
    "for i,j in dic.items(): #notice that you have to use the items() method for the dictionary\n",
    "    print(i,j)"
   ]
  },
  {
   "cell_type": "code",
   "execution_count": 34,
   "metadata": {},
   "outputs": [
    {
     "name": "stdout",
     "output_type": "stream",
     "text": [
      "k 1\n",
      "k 2\n",
      "k 3\n",
      "k 4\n"
     ]
    }
   ],
   "source": [
    "#otherwise the output is \n",
    "for i,j in dic:     #else the control variable i only picks up the first letter of the key which is a string\n",
    "    print(i,j)"
   ]
  }
 ],
 "metadata": {
  "kernelspec": {
   "display_name": "Python 3",
   "language": "python",
   "name": "python3"
  },
  "language_info": {
   "codemirror_mode": {
    "name": "ipython",
    "version": 3
   },
   "file_extension": ".py",
   "mimetype": "text/x-python",
   "name": "python",
   "nbconvert_exporter": "python",
   "pygments_lexer": "ipython3",
   "version": "3.8.10"
  }
 },
 "nbformat": 4,
 "nbformat_minor": 2
}
