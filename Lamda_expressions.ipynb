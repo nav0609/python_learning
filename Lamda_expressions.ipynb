{
 "cells": [
  {
   "cell_type": "markdown",
   "id": "6d8070b9",
   "metadata": {},
   "source": [
    "### Map :\n",
    "- The map function allows you to \"map\" a function to an iterable object. That is to say you can quickly call the same function to every item in an iterable, such as a list. For example:\n"
   ]
  },
  {
   "cell_type": "code",
   "execution_count": 2,
   "id": "3c1dcb9e",
   "metadata": {},
   "outputs": [],
   "source": [
    "def cube(nums):\n",
    "    return nums**3"
   ]
  },
  {
   "cell_type": "code",
   "execution_count": 4,
   "id": "e00113bc",
   "metadata": {},
   "outputs": [],
   "source": [
    "exam_nums = [2,3,4,5,6]"
   ]
  },
  {
   "cell_type": "code",
   "execution_count": 5,
   "id": "5c1c2ad0",
   "metadata": {},
   "outputs": [
    {
     "data": {
      "text/plain": [
       "<map at 0x1d1ce123df0>"
      ]
     },
     "execution_count": 5,
     "metadata": {},
     "output_type": "execute_result"
    }
   ],
   "source": [
    "map(cube,exam_nums)"
   ]
  },
  {
   "cell_type": "markdown",
   "id": "0bc48551",
   "metadata": {},
   "source": [
    "The map function maps the given func to the given arguments at a specific location on the memory.\n",
    "\n",
    "And to run ( iterate through the assigned arguements ) the function assigned you use a loop or some other function;"
   ]
  },
  {
   "cell_type": "code",
   "execution_count": 12,
   "id": "88b9414e",
   "metadata": {},
   "outputs": [
    {
     "name": "stdout",
     "output_type": "stream",
     "text": [
      "8\n",
      "27\n",
      "64\n",
      "125\n",
      "216\n",
      "[8, 27, 64, 125, 216]\n"
     ]
    }
   ],
   "source": [
    "for i in map(cube,exam_nums):\n",
    "    print(i)\n",
    "\n",
    "# OR\n",
    "\n",
    "print(list(map(cube,exam_nums)))"
   ]
  },
  {
   "cell_type": "markdown",
   "id": "6d89b655",
   "metadata": {},
   "source": [
    "### Filter :\n",
    "- The filter function works similer to map as it also iterates the func through the given arguements. The only difference being that it only passes a function that returns True or False ( i.e, it filters the arguments )."
   ]
  },
  {
   "cell_type": "code",
   "execution_count": 13,
   "id": "63dad899",
   "metadata": {},
   "outputs": [],
   "source": [
    "def is_even(nums):\n",
    "    return nums%2==0"
   ]
  },
  {
   "cell_type": "code",
   "execution_count": 14,
   "id": "2d71fe8b",
   "metadata": {},
   "outputs": [
    {
     "data": {
      "text/plain": [
       "[2, 4, 6]"
      ]
     },
     "execution_count": 14,
     "metadata": {},
     "output_type": "execute_result"
    }
   ],
   "source": [
    "exam_list = [2,3,7,8,6,9]\n",
    "list(filter(is_even,exam_nums))"
   ]
  },
  {
   "cell_type": "markdown",
   "id": "ab55aab1",
   "metadata": {},
   "source": [
    "### Lamda Expressions :\n",
    "- You could think of lamda expressions as one line and one use only fuctions. For example the cube and is_even func can be written in one line as they only perform a simple logic.\n",
    "\n",
    "- With def:\n",
    "```\n",
    "def is_even(n) : return n%2==0\n",
    "```"
   ]
  },
  {
   "cell_type": "code",
   "execution_count": 22,
   "id": "2ba75d23",
   "metadata": {},
   "outputs": [
    {
     "name": "stdout",
     "output_type": "stream",
     "text": [
      "[8, 27, 125, 216, 343, 512]\n",
      "[2, 6, 8]\n"
     ]
    }
   ],
   "source": [
    "# With an lamda expression:\n",
    "n=[2,3,5,6,7,8]\n",
    "print(list(map(lambda x : x**3,n)))        # Notice lamda expressions work best with map and filters\n",
    "print(list(filter(lambda x : x%2==0,n)))"
   ]
  }
 ],
 "metadata": {
  "kernelspec": {
   "display_name": "Python 3",
   "language": "python",
   "name": "python3"
  },
  "language_info": {
   "codemirror_mode": {
    "name": "ipython",
    "version": 3
   },
   "file_extension": ".py",
   "mimetype": "text/x-python",
   "name": "python",
   "nbconvert_exporter": "python",
   "pygments_lexer": "ipython3",
   "version": "3.12.5"
  }
 },
 "nbformat": 4,
 "nbformat_minor": 5
}
