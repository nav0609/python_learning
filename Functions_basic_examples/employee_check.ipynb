{
 "cells": [
  {
   "cell_type": "code",
   "execution_count": 21,
   "metadata": {},
   "outputs": [
    {
     "name": "stdout",
     "output_type": "stream",
     "text": [
      "('emp3', 50)\n"
     ]
    }
   ],
   "source": [
    "working_hours = [('emp1',10),('emp2',25),('emp3',50)]\n",
    "def employee_check(working_hours):\n",
    "     # यह function हमे employees के list मे से सबसे ज्यादा working hours वाले employee का नाम और उसके work-time को return करता है |  \n",
    "    current_max = 0     \n",
    "    current_emp = ''\n",
    "    for emp,hours in working_hours:\n",
    "        if current_max<hours:\n",
    "            current_max=hours\n",
    "            current_emp=emp\n",
    "        else:\n",
    "            pass \n",
    "    return(current_emp,current_max)\n",
    "\n",
    "print(employee_check(working_hours))"
   ]
  }
 ],
 "metadata": {
  "kernelspec": {
   "display_name": "Python 3",
   "language": "python",
   "name": "python3"
  },
  "language_info": {
   "codemirror_mode": {
    "name": "ipython",
    "version": 3
   },
   "file_extension": ".py",
   "mimetype": "text/x-python",
   "name": "python",
   "nbconvert_exporter": "python",
   "pygments_lexer": "ipython3",
   "version": "3.12.5"
  }
 },
 "nbformat": 4,
 "nbformat_minor": 2
}
