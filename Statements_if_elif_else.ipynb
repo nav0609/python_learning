{
 "cells": [
  {
   "cell_type": "markdown",
   "metadata": {},
   "source": [
    "#If, else and else if statements work the same as in Java except with different syntax \n",
    "as in,\n",
    "- where in java you would write this code in java for if-else statements \n",
    "```\n",
    "if (a<b){\n",
    "    System.out.println(\"True\");\n",
    "}\n",
    "else{\n",
    "    System.out.println(\"false\");\n",
    "}\n",
    "```\n",
    "- to write the same code in python you write the following:\n"
   ]
  },
  {
   "cell_type": "code",
   "execution_count": 1,
   "metadata": {},
   "outputs": [
    {
     "name": "stdout",
     "output_type": "stream",
     "text": [
      "true\n"
     ]
    }
   ],
   "source": [
    "#you use the collon (':') and indentations (whitespaces)\n",
    "a=1\n",
    "b=100\n",
    "if a<b:\n",
    "    print('true')\n",
    "else:\n",
    "    print('false')"
   ]
  },
  {
   "cell_type": "markdown",
   "metadata": {},
   "source": [
    "- same goes for else if statements but you write 'elif' instead of 'elseif'"
   ]
  },
  {
   "cell_type": "code",
   "execution_count": 3,
   "metadata": {},
   "outputs": [
    {
     "name": "stdout",
     "output_type": "stream",
     "text": [
      "true\n"
     ]
    }
   ],
   "source": [
    "#else if ladder in python\n",
    "if a>b:\n",
    "    print('not possible')\n",
    "elif a<=b:\n",
    "    print('true')\n",
    "elif (b-a)<b:\n",
    "    print('is true')    #note that, just like in java, if the first condition is found true the compiler executes the code in the statement.\n",
    "else:\n",
    "    print('false')"
   ]
  },
  {
   "cell_type": "markdown",
   "metadata": {},
   "source": [
    "- I personally find the {} syntax more appealing \n",
    "- this just feels lazy"
   ]
  }
 ],
 "metadata": {
  "kernelspec": {
   "display_name": "Python 3",
   "language": "python",
   "name": "python3"
  },
  "language_info": {
   "codemirror_mode": {
    "name": "ipython",
    "version": 3
   },
   "file_extension": ".py",
   "mimetype": "text/x-python",
   "name": "python",
   "nbconvert_exporter": "python",
   "pygments_lexer": "ipython3",
   "version": "3.8.10"
  }
 },
 "nbformat": 4,
 "nbformat_minor": 2
}
