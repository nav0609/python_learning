{
 "cells": [
  {
   "cell_type": "code",
   "execution_count": 13,
   "id": "1bc8ee38",
   "metadata": {},
   "outputs": [],
   "source": [
    "# Relating OOP in java with OOP in python\n",
    "\n",
    "# A class in python is an user defined object\n",
    "\n",
    "class Cylinder():\n",
    "\n",
    "    # CLASS VARIABLE / ATTRIBUTE\n",
    "    pi=3.14     \n",
    "\n",
    "    # Python equivalent of the main() method\n",
    "    def __init__(self,radius=1,height=1):         # 'self' keyword is used to create instances of the class \n",
    "        \n",
    "        # creating instance of the passed arguments using 'self'\n",
    "        self.radius = radius                     # the specific syntax is 'self.attribute = instance'\n",
    "        self.height = height\n",
    "        \n",
    "        # We can also just define an instance without the need for a specific argument\n",
    "        self.surface_area = 2 * Cylinder.pi * radius + 2 * Cylinder.pi * radius**2\n",
    "        # Also notice that we need to reference pi using 'Cylinder.pi' but you can also use self.pi\n",
    "    \n",
    "    # Creating a new function inside the class, which is called a method\n",
    "    def volume(self):\n",
    "        return Cylinder.pi * self.radius**2 * self.height"
   ]
  },
  {
   "cell_type": "code",
   "execution_count": 10,
   "id": "8e75b2d7",
   "metadata": {},
   "outputs": [],
   "source": [
    "temp = Cylinder(10,20)      # A more clear syntax would be Cylinder(radius=10, height=20)"
   ]
  },
  {
   "cell_type": "code",
   "execution_count": 11,
   "id": "1ffa67d9",
   "metadata": {},
   "outputs": [
    {
     "data": {
      "text/plain": [
       "690.8"
      ]
     },
     "execution_count": 11,
     "metadata": {},
     "output_type": "execute_result"
    }
   ],
   "source": [
    "temp.surface_area"
   ]
  },
  {
   "cell_type": "code",
   "execution_count": 12,
   "id": "430b5145",
   "metadata": {},
   "outputs": [
    {
     "data": {
      "text/plain": [
       "6280.0"
      ]
     },
     "execution_count": 12,
     "metadata": {},
     "output_type": "execute_result"
    }
   ],
   "source": [
    "temp.volume()"
   ]
  }
 ],
 "metadata": {
  "kernelspec": {
   "display_name": "Python 3",
   "language": "python",
   "name": "python3"
  },
  "language_info": {
   "codemirror_mode": {
    "name": "ipython",
    "version": 3
   },
   "file_extension": ".py",
   "mimetype": "text/x-python",
   "name": "python",
   "nbconvert_exporter": "python",
   "pygments_lexer": "ipython3",
   "version": "3.12.5"
  }
 },
 "nbformat": 4,
 "nbformat_minor": 5
}
