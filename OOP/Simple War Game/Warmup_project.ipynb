{
 "cells": [
  {
   "cell_type": "markdown",
   "id": "de9cb203",
   "metadata": {},
   "source": [
    "### Creating a simple card class that contains constants and strings used again and again in the game"
   ]
  },
  {
   "cell_type": "code",
   "execution_count": 36,
   "id": "db52e2a2",
   "metadata": {},
   "outputs": [],
   "source": [
    "import random"
   ]
  },
  {
   "cell_type": "code",
   "execution_count": 37,
   "id": "a3155794",
   "metadata": {},
   "outputs": [],
   "source": [
    "suits = ('Hearts', 'Diamonds', 'Spades', 'Clubs')\n",
    "ranks = ('Two', 'Three', 'Four', 'Five', 'Six', 'Seven', 'Eight', 'Nine', 'Ten', 'Jack', 'Queen', 'King', 'Ace')\n",
    "values = {'Two':2, 'Three':3, 'Four':4, 'Five':5, 'Six':6, 'Seven':7, 'Eight':8, \n",
    "            'Nine':9, 'Ten':10, 'Jack':11, 'Queen':12, 'King':13, 'Ace':14}"
   ]
  },
  {
   "cell_type": "code",
   "execution_count": 38,
   "id": "9ce60f4a",
   "metadata": {},
   "outputs": [],
   "source": [
    "class Card:\n",
    "\n",
    "    def __init__(self,suit,rank):\n",
    "\n",
    "        # Intatiating the suit,rank and value of the card\n",
    "        self.suit = suit\n",
    "        self.rank = rank\n",
    "        self.value = values[rank]\n",
    "\n",
    "    # Printing the card\n",
    "    def __str__(self):\n",
    "        return self.rank + \" of \" + self.suit\n",
    "        "
   ]
  },
  {
   "cell_type": "code",
   "execution_count": 39,
   "id": "0b3d4315",
   "metadata": {},
   "outputs": [],
   "source": [
    "two_of_hearts=Card(suits[2],ranks[12])"
   ]
  },
  {
   "cell_type": "code",
   "execution_count": 40,
   "id": "83be7158",
   "metadata": {},
   "outputs": [
    {
     "name": "stdout",
     "output_type": "stream",
     "text": [
      "Ace of Spades\n"
     ]
    }
   ],
   "source": [
    "print(two_of_hearts)"
   ]
  },
  {
   "cell_type": "code",
   "execution_count": 41,
   "id": "2daef60d",
   "metadata": {},
   "outputs": [
    {
     "data": {
      "text/plain": [
       "14"
      ]
     },
     "execution_count": 41,
     "metadata": {},
     "output_type": "execute_result"
    }
   ],
   "source": [
    "two_of_hearts.value"
   ]
  },
  {
   "cell_type": "code",
   "execution_count": 42,
   "id": "dc006fef",
   "metadata": {},
   "outputs": [],
   "source": [
    "class Deck:\n",
    "\n",
    "    def __init__(self):\n",
    "        \n",
    "        # Initially the deck is empty\n",
    "        self.all_cards = []\n",
    "\n",
    "        # Creating the deck\n",
    "        for suit in suits:\n",
    "            for rank in ranks:\n",
    "\n",
    "                # Passing each value into the card class\n",
    "                created_card = Card(suit,rank)\n",
    "\n",
    "                # Appendning the empty deck\n",
    "                self.all_cards.append(created_card)\n",
    "    \n",
    "    # Shuffling the cards using shuffle method from random in python\n",
    "    def shuffle(self):\n",
    "        \n",
    "        # Remember that shuffle method doesn't return anything\n",
    "        random.shuffle(self.all_cards)\n",
    "\n",
    "    # Dealing out one card\n",
    "    def deal_one(self):\n",
    "        \n",
    "        # all_cards attribute acts just like a regular list\n",
    "        return self.all_cards.pop()\n"
   ]
  },
  {
   "cell_type": "code",
   "execution_count": 43,
   "id": "f24e0ab1",
   "metadata": {},
   "outputs": [
    {
     "data": {
      "text/plain": [
       "52"
      ]
     },
     "execution_count": 43,
     "metadata": {},
     "output_type": "execute_result"
    }
   ],
   "source": [
    "My_deck = Deck()\n",
    "len(My_deck.all_cards)"
   ]
  },
  {
   "cell_type": "code",
   "execution_count": 44,
   "id": "4f304ec9",
   "metadata": {},
   "outputs": [
    {
     "name": "stdout",
     "output_type": "stream",
     "text": [
      "Ace of Spades\n"
     ]
    }
   ],
   "source": [
    "My_deck.shuffle()\n",
    "print(My_deck.all_cards[0])"
   ]
  },
  {
   "cell_type": "code",
   "execution_count": 45,
   "id": "4d1564fe",
   "metadata": {},
   "outputs": [
    {
     "name": "stdout",
     "output_type": "stream",
     "text": [
      "Ace of Hearts\n"
     ]
    }
   ],
   "source": [
    "print(My_deck.deal_one())"
   ]
  },
  {
   "cell_type": "code",
   "execution_count": 46,
   "id": "ab9bfb3f",
   "metadata": {},
   "outputs": [
    {
     "data": {
      "text/plain": [
       "51"
      ]
     },
     "execution_count": 46,
     "metadata": {},
     "output_type": "execute_result"
    }
   ],
   "source": [
    "len(My_deck.all_cards)"
   ]
  },
  {
   "cell_type": "code",
   "execution_count": 47,
   "id": "8b09931c",
   "metadata": {},
   "outputs": [],
   "source": [
    "class Player:\n",
    "\n",
    "    # Instantiating the name and deck of the player\n",
    "    def __init__(self,name):\n",
    "        self.name = name\n",
    "        self.all_cards = []\n",
    "\n",
    "    # Removing one card from the top of the player's deck\n",
    "    def remove_one(self):\n",
    "        return self.all_cards.pop(0)\n",
    "\n",
    "    # Adding card(s) to the current deck of the player\n",
    "    def add_cards(self,new_cards):\n",
    "        \n",
    "        # For multiple cards to added \n",
    "        if type(new_cards)==type([]):\n",
    "            \n",
    "            # Checking the type to be list and then using the extend method to add \n",
    "            self.all_cards.extend(new_cards)\n",
    "\n",
    "        # For a single card to added    \n",
    "        else:\n",
    "            self.all_cards.append(new_cards)\n",
    "\n",
    "    def __str__(self):\n",
    "        return f'Player {self.name} has {len(self.all_cards)} cards.'\n",
    "    "
   ]
  },
  {
   "cell_type": "code",
   "execution_count": 48,
   "id": "601ba886",
   "metadata": {},
   "outputs": [
    {
     "name": "stdout",
     "output_type": "stream",
     "text": [
      "Player Guru Ghantaal has 0 cards.\n"
     ]
    }
   ],
   "source": [
    "some_player = Player('Guru Ghantaal')\n",
    "print(some_player)"
   ]
  },
  {
   "cell_type": "code",
   "execution_count": 49,
   "id": "cc4e3279",
   "metadata": {},
   "outputs": [],
   "source": [
    "# GAME SETUP\n",
    "\n",
    "# Creating the two players \n",
    "player_one = Player(\"One\")\n",
    "player_two = Player(\"Two\")\n",
    "\n",
    "# Creating the deck and shuffling it\n",
    "new_deck= Deck()\n",
    "new_deck.shuffle()\n",
    "\n",
    "# Spliting the deck between the two players\n",
    "Num_of_cards = int(len(new_deck.all_cards)/2)\n",
    "\n",
    "for x in range(Num_of_cards):\n",
    "    player_one.add_cards(new_deck.deal_one())\n",
    "    player_two.add_cards(new_deck.deal_one())"
   ]
  },
  {
   "cell_type": "code",
   "execution_count": 50,
   "id": "59d60de4",
   "metadata": {},
   "outputs": [],
   "source": [
    "# Setting up the initial condition\n",
    "game_on = True"
   ]
  },
  {
   "cell_type": "code",
   "execution_count": 51,
   "id": "96a7c82b",
   "metadata": {},
   "outputs": [
    {
     "name": "stdout",
     "output_type": "stream",
     "text": [
      "Round 1\n",
      "Round 2\n",
      "Round 3\n",
      "Round 4\n",
      "Round 5\n",
      "Round 6\n",
      "Round 7\n",
      "Round 8\n",
      "Round 9\n",
      "Round 10\n",
      "Round 11\n",
      "Round 12\n",
      "Round 13\n",
      "Round 14\n",
      "Round 15\n",
      "Round 16\n",
      "Round 17\n",
      "Round 18\n",
      "Round 19\n",
      "Round 20\n",
      "Round 21\n",
      "AT WAR!\n",
      "Round 22\n",
      "Round 23\n",
      "Round 24\n",
      "Round 25\n",
      "Round 26\n",
      "Round 27\n",
      "Round 28\n",
      "Round 29\n",
      "Round 30\n",
      "Round 31\n",
      "Round 32\n",
      "Round 33\n",
      "Round 34\n",
      "Round 35\n",
      "Round 36\n",
      "Round 37\n",
      "Round 38\n",
      "Round 39\n",
      "Round 40\n",
      "Round 41\n",
      "Round 42\n",
      "Round 43\n",
      "Round 44\n",
      "Round 45\n",
      "Round 46\n",
      "Round 47\n",
      "Round 48\n",
      "AT WAR!\n",
      "Round 49\n",
      "Round 50\n",
      "Round 51\n",
      "Round 52\n",
      "Round 53\n",
      "Round 54\n",
      "Round 55\n",
      "Round 56\n",
      "Round 57\n",
      "Round 58\n",
      "Round 59\n",
      "Round 60\n",
      "Round 61\n",
      "Round 62\n",
      "Round 63\n",
      "Round 64\n",
      "Round 65\n",
      "Round 66\n",
      "Round 67\n",
      "Round 68\n",
      "Round 69\n",
      "Round 70\n",
      "Round 71\n",
      "AT WAR!\n",
      "Round 72\n",
      "Round 73\n",
      "AT WAR!\n",
      "Round 74\n",
      "Round 75\n",
      "Round 76\n",
      "Round 77\n",
      "Round 78\n",
      "AT WAR!\n",
      "AT WAR!\n",
      "Round 79\n",
      "Round 80\n",
      "Round 81\n",
      "Round 82\n",
      "Round 83\n",
      "Round 84\n",
      "Round 85\n",
      "Round 86\n",
      "Round 87\n",
      "Round 88\n",
      "AT WAR!\n",
      "Round 89\n",
      "Round 90\n",
      "Round 91\n",
      "Round 92\n",
      "Round 93\n",
      "Round 94\n",
      "Round 95\n",
      "Round 96\n",
      "Round 97\n",
      "Round 98\n",
      "Round 99\n",
      "Round 100\n",
      "Round 101\n",
      "Round 102\n",
      "Round 103\n",
      "Round 104\n",
      "Round 105\n",
      "Round 106\n",
      "Round 107\n",
      "Round 108\n",
      "Round 109\n",
      "Round 110\n",
      "Round 111\n",
      "Round 112\n",
      "Round 113\n",
      "Round 114\n",
      "Round 115\n",
      "Round 116\n",
      "Round 117\n",
      "Round 118\n",
      "Round 119\n",
      "Round 120\n",
      "Round 121\n",
      "Round 122\n",
      "Round 123\n",
      "Round 124\n",
      "Round 125\n",
      "Round 126\n",
      "Round 127\n",
      "Round 128\n",
      "Round 129\n",
      "Round 130\n",
      "Round 131\n",
      "Round 132\n",
      "Round 133\n",
      "Round 134\n",
      "Round 135\n",
      "Round 136\n",
      "Round 137\n",
      "Round 138\n",
      "Round 139\n",
      "Round 140\n",
      "Round 141\n",
      "Round 142\n",
      "Round 143\n",
      "AT WAR!\n",
      "Round 144\n",
      "Round 145\n",
      "Round 146\n",
      "Round 147\n",
      "Round 148\n",
      "Round 149\n",
      "Round 150\n",
      "Round 151\n",
      "Round 152\n",
      "Round 153\n",
      "Round 154\n",
      "Round 155\n",
      "Round 156\n",
      "Round 157\n",
      "Round 158\n",
      "Round 159\n",
      "Round 160\n",
      "Round 161\n",
      "Round 162\n",
      "Round 163\n",
      "Round 164\n",
      "Round 165\n",
      "Round 166\n",
      "Round 167\n",
      "Round 168\n",
      "Round 169\n",
      "Round 170\n",
      "Round 171\n",
      "Round 172\n",
      "Round 173\n",
      "AT WAR!\n",
      "Round 174\n",
      "Round 175\n",
      "Round 176\n",
      "Round 177\n",
      "Round 178\n",
      "Round 179\n",
      "Round 180\n",
      "Round 181\n",
      "Round 182\n",
      "AT WAR!\n",
      "Round 183\n",
      "Round 184\n",
      "Round 185\n",
      "Round 186\n",
      "Round 187\n",
      "Round 188\n",
      "Round 189\n",
      "Round 190\n",
      "Round 191\n",
      "Round 192\n",
      "Round 193\n",
      "AT WAR!\n",
      "Round 194\n",
      "Player Two, out of cards! Player One Wins!\n"
     ]
    }
   ],
   "source": [
    "# GAME LOGIC\n",
    "round_num=0\n",
    "while game_on:\n",
    "\n",
    "    # Counting and printing the number of rounds\n",
    "    round_num += 1\n",
    "    print(f\"Round {round_num}\")\n",
    "\n",
    "    # Condition for the player(s) to win\n",
    "\n",
    "    if len(player_one.all_cards) == 0:\n",
    "        print(\"Player One, out of cards! Player Two Wins!\")\n",
    "        game_on = False\n",
    "        break\n",
    "    \n",
    "    if len(player_two.all_cards) == 0:\n",
    "        print(\"Player Two, out of cards! Player One Wins!\")\n",
    "        game_on = False\n",
    "        break\n",
    "\n",
    "    # STARTING A NEW ROUND\n",
    "\n",
    "    # Each player's 'hand'\n",
    "    player_one_cards = []\n",
    "    player_one_cards.append(player_one.remove_one())\n",
    "    \n",
    "    player_two_cards = []\n",
    "    player_two_cards.append(player_two.remove_one())\n",
    "\n",
    "    # Condition variable\n",
    "    at_war = True \n",
    "\n",
    "    while at_war:\n",
    "\n",
    "        # The stack is compared from the top, hence the [-1]\n",
    "        if player_one_cards[-1].value > player_two_cards[-1].value:\n",
    "            \n",
    "            # The player gets both his card back as well as the oppenent's card\n",
    "            player_one.add_cards(player_one_cards)\n",
    "            player_one.add_cards(player_two_cards)\n",
    "            \n",
    "            at_war = False\n",
    "\n",
    "        elif player_one_cards[-1].value < player_two_cards[-1].value:\n",
    "            \n",
    "            player_two.add_cards(player_two_cards)\n",
    "            player_two.add_cards(player_one_cards)\n",
    "            \n",
    "            at_war = False\n",
    "\n",
    "        # The logic of war\n",
    "        else:\n",
    "            print(\"AT WAR!\")\n",
    "\n",
    "            # The game ends if one of the players don't have a certain number of cards in their deck\n",
    "            if len(player_one.all_cards) < 5:\n",
    "                print(\"Player One unable to declare war!\")\n",
    "                print(\"GAME OVER!\")\n",
    "                print(\"PLAYER TWO WINS!\")\n",
    "\n",
    "                at_war = False\n",
    "                break\n",
    "\n",
    "            elif len(player_two.all_cards) < 5:\n",
    "                print(\"Player Two unable to declare war!\")\n",
    "                print(\"GAME OVER!\")\n",
    "                print(\"PLAYER ONE WINS!\")\n",
    "\n",
    "                at_war = False\n",
    "                break\n",
    "\n",
    "            #  Adding more cards to each player's 'hand'\n",
    "            else:\n",
    "                for num in range(5):\n",
    "\n",
    "                    player_one_cards.append(player_one.remove_one())\n",
    "                    player_two_cards.append(player_two.remove_one())\n"
   ]
  },
  {
   "cell_type": "code",
   "execution_count": null,
   "id": "f601c990",
   "metadata": {},
   "outputs": [],
   "source": []
  }
 ],
 "metadata": {
  "kernelspec": {
   "display_name": "Python 3",
   "language": "python",
   "name": "python3"
  },
  "language_info": {
   "codemirror_mode": {
    "name": "ipython",
    "version": 3
   },
   "file_extension": ".py",
   "mimetype": "text/x-python",
   "name": "python",
   "nbconvert_exporter": "python",
   "pygments_lexer": "ipython3",
   "version": "3.12.5"
  }
 },
 "nbformat": 4,
 "nbformat_minor": 5
}
