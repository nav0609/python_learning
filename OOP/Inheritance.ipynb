{
 "cells": [
  {
   "cell_type": "markdown",
   "id": "084d464b",
   "metadata": {},
   "source": [
    "### Comparing Inheritance in python with inheritance in java \n",
    "- Inheritance in python works similar to that in java but has a more compact code.\n",
    "- Java has the advantage here as its code is much more understandable to those learning inheritance for the first time."
   ]
  },
  {
   "cell_type": "code",
   "execution_count": 31,
   "id": "c82f4a7e",
   "metadata": {},
   "outputs": [],
   "source": [
    "# BASE CLASS\n",
    "class Bike():\n",
    "\n",
    "    # main() method of the BASE CLASS\n",
    "    def __init__(self):\n",
    "        print(\"Bike has been created!\")\n",
    "\n",
    "    def what_kind_of_bike(self):\n",
    "        print(\"Its a cruiser.\")\n",
    "\n",
    "    def type_of_engine(self):\n",
    "        print(\"Its a 4 stroke single cylinder engine.\")"
   ]
  },
  {
   "cell_type": "code",
   "execution_count": 36,
   "id": "fd8754d9",
   "metadata": {},
   "outputs": [],
   "source": [
    "# SUB-CLASS / INHERITING CLASS\n",
    "class Specifications(Bike):         # Inheriting the base class\n",
    "\n",
    "    def __init__(self):\n",
    "        Bike.__init__(self)\n",
    "        print(\"Bike's specifications have been initialized.\")\n",
    "    \n",
    "    # Defining methods of the SUB-CLASS \n",
    "    def dispacement(self):\n",
    "        print(\"The displacement of the engine is 650cc.\")\n",
    "    \n",
    "    def stroke_type(self):\n",
    "        print(\"Its engine is a long stroke engine.\")\n",
    "\n",
    "    def cooling_system(self):\n",
    "        print(\"The engine is air cooled with heat fins.\")\n",
    "    \n",
    "    # ORVERIDING a method defined in the BASE CLASS\n",
    "    def what_kind_of_bike(self):\n",
    "        print(\"Its a Continental GT.\")\n"
   ]
  },
  {
   "cell_type": "code",
   "execution_count": 37,
   "id": "9d023aa0",
   "metadata": {},
   "outputs": [
    {
     "name": "stdout",
     "output_type": "stream",
     "text": [
      "Bike has been created!\n",
      "Bike's specifications have been initialized.\n"
     ]
    }
   ],
   "source": [
    "temp = Specifications()"
   ]
  },
  {
   "cell_type": "code",
   "execution_count": 38,
   "id": "1be335e4",
   "metadata": {},
   "outputs": [
    {
     "name": "stdout",
     "output_type": "stream",
     "text": [
      "Its engine is a long stroke engine.\n"
     ]
    }
   ],
   "source": [
    "temp.stroke_type()"
   ]
  },
  {
   "cell_type": "code",
   "execution_count": null,
   "id": "2c744be4",
   "metadata": {},
   "outputs": [],
   "source": []
  }
 ],
 "metadata": {
  "kernelspec": {
   "display_name": "Python 3",
   "language": "python",
   "name": "python3"
  },
  "language_info": {
   "codemirror_mode": {
    "name": "ipython",
    "version": 3
   },
   "file_extension": ".py",
   "mimetype": "text/x-python",
   "name": "python",
   "nbconvert_exporter": "python",
   "pygments_lexer": "ipython3",
   "version": "3.12.5"
  }
 },
 "nbformat": 4,
 "nbformat_minor": 5
}
