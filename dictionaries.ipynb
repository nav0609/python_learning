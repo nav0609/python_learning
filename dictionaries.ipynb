{
 "cells": [
  {
   "cell_type": "markdown",
   "metadata": {},
   "source": [
    "#dictionaries are another datatype in python like arrays in java except they don't have any specific order and are maped by keys like a hash map in java\n",
    "\n",
    "- Dictionaries can also not be sorted as they don't have any order.\n",
    "\n",
    "The below are some operations on dictionaries"
   ]
  },
  {
   "cell_type": "code",
   "execution_count": 1,
   "metadata": {},
   "outputs": [
    {
     "data": {
      "text/plain": [
       "{'key1': 'value1', 'key2': 'value2'}"
      ]
     },
     "execution_count": 1,
     "metadata": {},
     "output_type": "execute_result"
    }
   ],
   "source": [
    "#syntax to create a dictionary \n",
    "sam_dic = {'key1':'value1','key2':'value2'}\n",
    "sam_dic"
   ]
  },
  {
   "cell_type": "code",
   "execution_count": 2,
   "metadata": {},
   "outputs": [
    {
     "data": {
      "text/plain": [
       "'value1'"
      ]
     },
     "execution_count": 2,
     "metadata": {},
     "output_type": "execute_result"
    }
   ],
   "source": [
    "#syntax to call an item of a dictionary\n",
    "sam_dic['key1'] #returns the value of the key1"
   ]
  },
  {
   "cell_type": "code",
   "execution_count": 4,
   "metadata": {},
   "outputs": [
    {
     "data": {
      "text/plain": [
       "{'key1': 'value1', 'key2': 'value2', 'key3': 'value3'}"
      ]
     },
     "execution_count": 4,
     "metadata": {},
     "output_type": "execute_result"
    }
   ],
   "source": [
    "#syntax to add an item in a dictionary\n",
    "sam_dic['key3']='value3' # adds another key (key3) with a value at the end \n",
    "sam_dic"
   ]
  },
  {
   "cell_type": "code",
   "execution_count": 8,
   "metadata": {},
   "outputs": [
    {
     "data": {
      "text/plain": [
       "[1, 'xyz', 0.01]"
      ]
     },
     "execution_count": 8,
     "metadata": {},
     "output_type": "execute_result"
    }
   ],
   "source": [
    "#dictionaries are also flexible, i.e, they can hold multiple data types \n",
    "sam2_dic={'k1':123,'k2':7.07,'k3':'abcd','k4':[1,'xyz',0.01]}\n",
    "sam2_dic['k4']"
   ]
  },
  {
   "cell_type": "markdown",
   "metadata": {},
   "source": [
    "- from the above example we can further see that python can have one data strc inside another; e.g, a list at key k4 in the above dictionary sam2_dic."
   ]
  },
  {
   "cell_type": "code",
   "execution_count": 9,
   "metadata": {},
   "outputs": [
    {
     "data": {
      "text/plain": [
       "1"
      ]
     },
     "execution_count": 9,
     "metadata": {},
     "output_type": "execute_result"
    }
   ],
   "source": [
    "#systax for calling a elements from a list inside a dictionary\n",
    "sam3_dic={'k1':[1,3,5,7]}\n",
    "sam3_dic['k1'][0] #returns the value at index 0 of the list in key k1"
   ]
  },
  {
   "cell_type": "markdown",
   "metadata": {},
   "source": [
    "- You can also perform math operations on dictionaries\n",
    "\n",
    "Shown as follows:"
   ]
  },
  {
   "cell_type": "code",
   "execution_count": 11,
   "metadata": {},
   "outputs": [
    {
     "data": {
      "text/plain": [
       "300"
      ]
     },
     "execution_count": 11,
     "metadata": {},
     "output_type": "execute_result"
    }
   ],
   "source": [
    "math_dic={'op1':500,'op2':200}\n",
    "math_dic['op1'] -= math_dic['op2'] # -= is the same as in java\n",
    "math_dic['op1']"
   ]
  },
  {
   "cell_type": "markdown",
   "metadata": {},
   "source": [
    "#Nesting dictionaries\n",
    "- One dictionary can be nested inside another and further on "
   ]
  },
  {
   "cell_type": "code",
   "execution_count": 12,
   "metadata": {},
   "outputs": [
    {
     "data": {
      "text/plain": [
       "{'key1': {'nestkey': {'subnestkey': 'value'}}}"
      ]
     },
     "execution_count": 12,
     "metadata": {},
     "output_type": "execute_result"
    }
   ],
   "source": [
    "#syntax for nesting dictionaries\n",
    "nest_dic={'key1':{'nestkey':{'subnestkey':'value'}}}\n",
    "nest_dic"
   ]
  },
  {
   "cell_type": "code",
   "execution_count": 14,
   "metadata": {},
   "outputs": [
    {
     "data": {
      "text/plain": [
       "'value'"
      ]
     },
     "execution_count": 14,
     "metadata": {},
     "output_type": "execute_result"
    }
   ],
   "source": [
    "#as for accessing the value in the innermost dictionary the syntax is:\n",
    "nest_dic['key1']['nestkey']['subnestkey'] #the number of [] brackets increases if we want to access a value further and further into the dictionary"
   ]
  },
  {
   "cell_type": "markdown",
   "metadata": {},
   "source": [
    "#some methods of dictionaries \n",
    "\n",
    "- .keys()\n",
    "- .values()\n",
    "- .items()"
   ]
  },
  {
   "cell_type": "code",
   "execution_count": 15,
   "metadata": {},
   "outputs": [
    {
     "data": {
      "text/plain": [
       "dict_keys(['key1', 'key2', 'key3'])"
      ]
     },
     "execution_count": 15,
     "metadata": {},
     "output_type": "execute_result"
    }
   ],
   "source": [
    "#for getting all the keys of a dictionary\n",
    "meth_dic = {'key1':123,'key2':'text','key3':[1,'list_text',2.25]}\n",
    "meth_dic.keys() #returns all the key names"
   ]
  },
  {
   "cell_type": "code",
   "execution_count": 16,
   "metadata": {},
   "outputs": [
    {
     "data": {
      "text/plain": [
       "dict_values([123, 'text', [1, 'list_text', 2.25]])"
      ]
     },
     "execution_count": 16,
     "metadata": {},
     "output_type": "execute_result"
    }
   ],
   "source": [
    "#for getting all the values of a dictionary\n",
    "meth_dic.values() # returns all the values"
   ]
  },
  {
   "cell_type": "code",
   "execution_count": 17,
   "metadata": {},
   "outputs": [
    {
     "data": {
      "text/plain": [
       "dict_items([('key1', 123), ('key2', 'text'), ('key3', [1, 'list_text', 2.25])])"
      ]
     },
     "execution_count": 17,
     "metadata": {},
     "output_type": "execute_result"
    }
   ],
   "source": [
    "#for getting all the items of a dictionary\n",
    "meth_dic.items() #returns all the keys with their individual values in ordered pairs called tuples (to be learnt later on)"
   ]
  }
 ],
 "metadata": {
  "kernelspec": {
   "display_name": "Python 3",
   "language": "python",
   "name": "python3"
  },
  "language_info": {
   "codemirror_mode": {
    "name": "ipython",
    "version": 3
   },
   "file_extension": ".py",
   "mimetype": "text/x-python",
   "name": "python",
   "nbconvert_exporter": "python",
   "pygments_lexer": "ipython3",
   "version": "3.8.10"
  }
 },
 "nbformat": 4,
 "nbformat_minor": 2
}
