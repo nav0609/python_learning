{
 "cells": [
  {
   "cell_type": "code",
   "execution_count": 9,
   "id": "6af0d9aa",
   "metadata": {},
   "outputs": [],
   "source": [
    "from IPython.display import clear_output\n",
    "clear_output()"
   ]
  },
  {
   "cell_type": "code",
   "execution_count": 10,
   "id": "2a70084d",
   "metadata": {},
   "outputs": [],
   "source": [
    "default_list=[1,2,3]"
   ]
  },
  {
   "cell_type": "code",
   "execution_count": 31,
   "id": "d363b32c",
   "metadata": {},
   "outputs": [],
   "source": [
    "def display(working_list):\n",
    "    print(f\"Current list is : {working_list}\")\n"
   ]
  },
  {
   "cell_type": "code",
   "execution_count": 32,
   "id": "237c24a4",
   "metadata": {},
   "outputs": [],
   "source": [
    "def postion_choice():\n",
    "\n",
    "    # Default parameters\n",
    "    choice = 'DEFAULT'\n",
    "    within_range = False\n",
    "\n",
    "    while choice.isdigit()== False or within_range == False:\n",
    "        \n",
    "        choice = input(\"Please enter a number within the range (1,2,3) : \")\n",
    "        \n",
    "        # Checking if the user inputs a digit\n",
    "        if choice.isdigit()==False:\n",
    "            print(\"Please enter a number this is a string.\")\n",
    "\n",
    "        # Checking if the user input is within range\n",
    "        if choice.isdigit()==True:\n",
    "            if int(choice) not in range(0,3):\n",
    "                print(\"Enter a number within the range.\")\n",
    "                within_range=False\n",
    "            else: \n",
    "                within_range=True\n",
    "\n",
    "    return int(choice)   "
   ]
  },
  {
   "cell_type": "code",
   "execution_count": 33,
   "id": "6f326d3b",
   "metadata": {},
   "outputs": [],
   "source": [
    "def replacing(temp_list,position):\n",
    "    chosed_string= input(\"Enter a string you want to place here : \")\n",
    "\n",
    "    temp_list[position]= chosed_string\n",
    "\n",
    "    return temp_list"
   ]
  },
  {
   "cell_type": "code",
   "execution_count": 34,
   "id": "5b17a0fb",
   "metadata": {},
   "outputs": [],
   "source": [
    "def gameon_choice():\n",
    "    \n",
    "    # This original choice value can be anything that isn't a Y or N\n",
    "    choice = 'wrong'\n",
    "    \n",
    "    # While the choice is not a digit, keep asking for input.\n",
    "    while choice not in ['Y','N']:\n",
    "        \n",
    "        # we shouldn't convert here, otherwise we get an error on a wrong input\n",
    "        choice = input(\"Would you like to keep playing? Y or N \")\n",
    "\n",
    "        \n",
    "        if choice not in ['Y','N']:\n",
    "            # THIS CLEARS THE CURRENT OUTPUT BELOW THE CELL\n",
    "            clear_output()\n",
    "            \n",
    "            print(\"Sorry, I didn't understand. Please make sure to choose Y or N.\")\n",
    "            \n",
    "    \n",
    "    # Optionally you can clear everything after running the function\n",
    "    # clear_output()\n",
    "    \n",
    "    if choice == \"Y\":\n",
    "        # Game is still on\n",
    "        return True\n",
    "    else:\n",
    "        # Game is over\n",
    "        return False"
   ]
  },
  {
   "cell_type": "code",
   "execution_count": 35,
   "id": "dc1d4bc8",
   "metadata": {},
   "outputs": [
    {
     "name": "stdout",
     "output_type": "stream",
     "text": [
      "Current list is : [0, 1, 'two']\n"
     ]
    }
   ],
   "source": [
    "gameon = True\n",
    "\n",
    "# Setting default list\n",
    "working_list = [0,1,2]\n",
    "\n",
    "while gameon:\n",
    "\n",
    "    # Displaying the default list\n",
    "    clear_output()\n",
    "    display(working_list)\n",
    "\n",
    "    # Asking the user to choose a position \n",
    "    position = postion_choice()\n",
    "\n",
    "    # Asking the user what string to replace the current element with\n",
    "    working_list = replacing(working_list,position)\n",
    "\n",
    "    #Clearing and displaying the current list\n",
    "    clear_output()\n",
    "    display(working_list)\n",
    "\n",
    "    # Asking the user if they want to continue playing\n",
    "    gameon = gameon_choice()\n"
   ]
  },
  {
   "cell_type": "code",
   "execution_count": null,
   "id": "294e6921",
   "metadata": {},
   "outputs": [],
   "source": []
  }
 ],
 "metadata": {
  "kernelspec": {
   "display_name": "Python 3",
   "language": "python",
   "name": "python3"
  },
  "language_info": {
   "codemirror_mode": {
    "name": "ipython",
    "version": 3
   },
   "file_extension": ".py",
   "mimetype": "text/x-python",
   "name": "python",
   "nbconvert_exporter": "python",
   "pygments_lexer": "ipython3",
   "version": "3.12.5"
  }
 },
 "nbformat": 4,
 "nbformat_minor": 5
}
